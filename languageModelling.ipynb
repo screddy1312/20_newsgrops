{
 "cells": [
  {
   "cell_type": "code",
   "execution_count": 1,
   "metadata": {},
   "outputs": [],
   "source": [
    "import os\n",
    "import nltk\n",
    "import math"
   ]
  },
  {
   "cell_type": "code",
   "execution_count": 2,
   "metadata": {},
   "outputs": [],
   "source": [
    "from nltk import sent_tokenize,word_tokenize\n",
    "from nltk.corpus import stopwords\n",
    "stopWords = set(stopwords.words('english'))"
   ]
  },
  {
   "cell_type": "code",
   "execution_count": 3,
   "metadata": {},
   "outputs": [],
   "source": [
    "def preprocessing(words):\n",
    "    mod_words = []\n",
    "    symbols = ['.',',',':','?','!','<','>','(',')','#','--','-','$','@','%','``',';',\"''\"]\n",
    "    for word in words:\n",
    "        if word not in stopWords:\n",
    "            if word.isalpha():\n",
    "                if len(word) > 2 :\n",
    "                    mod_words.append(word.lower())\n",
    "    return mod_words"
   ]
  },
  {
   "cell_type": "code",
   "execution_count": 4,
   "metadata": {},
   "outputs": [],
   "source": [
    "def bigram_generator(words,bigram_dict):\n",
    "    for i in range(len(words)-1):\n",
    "        if words[i] in bigram_dict:\n",
    "            if words[i+1] in bigram_dict[words[i]]:\n",
    "                bigram_dict[words[i]][words[i+1]] += 1\n",
    "            else:\n",
    "                bigram_dict[words[i]][words[i+1]] = 1\n",
    "        else:\n",
    "            bigram_dict[words[i]] = {}\n",
    "            bigram_dict[words[i]][words[i+1]] = 1\n",
    "    return bigram_dict"
   ]
  },
  {
   "cell_type": "code",
   "execution_count": 5,
   "metadata": {},
   "outputs": [],
   "source": [
    "def bigram_freq_generator(bigram_dict,size):\n",
    "    for key in bigram_dict.keys():\n",
    "        for k in bigram_dict[key].keys():\n",
    "            bigram_dict[key][k] += 1 # Laplace Smoothing\n",
    "    bigram_freq = {}\n",
    "    for key in bigram_dict.keys():\n",
    "        bigram_freq[key] = {}\n",
    "        count = len(bigram_dict[key])\n",
    "        denom = count + size\n",
    "        for k in bigram_dict[key].keys():\n",
    "            bigram_freq[key][k] = math.log10(bigram_dict[key][k]/denom)\n",
    "            \n",
    "    return bigram_freq"
   ]
  },
  {
   "cell_type": "code",
   "execution_count": 6,
   "metadata": {},
   "outputs": [],
   "source": [
    "def trigram_generator(words,trigram_dict):\n",
    "    for i in range(len(words)-2):\n",
    "        if words[i] in trigram_dict:\n",
    "            if words[i+1] in trigram_dict[words[i]]:\n",
    "                if words[i+2] in trigram_dict[words[i]][words[i+1]]:\n",
    "                    trigram_dict[words[i]][words[i+1]][words[i+2]] += 1\n",
    "                else:\n",
    "                    trigram_dict[words[i]][words[i+1]][words[i+2]] = 1\n",
    "            else:\n",
    "                trigram_dict[words[i]][words[i+1]] = {}\n",
    "                trigram_dict[words[i]][words[i+1]][words[i+2]] = 1\n",
    "        else:\n",
    "            trigram_dict[words[i]] ={}\n",
    "            trigram_dict[words[i]][words[i+1]] = {}\n",
    "            trigram_dict[words[i]][words[i+1]][words[i+2]] = 1\n",
    "    return trigram_dict"
   ]
  },
  {
   "cell_type": "code",
   "execution_count": 7,
   "metadata": {},
   "outputs": [],
   "source": [
    "def trigram_freq_generator(trigram_dict,size):\n",
    "    for keys in trigram_dict.keys():\n",
    "        for key in trigram_dict[keys].keys():\n",
    "            for k in trigram_dict[keys][key].keys():\n",
    "                trigram_dict[keys][key][k] += 1 # Laplace Smoothing\n",
    "    trigram_freq = {}\n",
    "    for keys in trigram_dict.keys():\n",
    "        trigram_freq[keys] = {}\n",
    "        for key in trigram_dict[keys].keys():\n",
    "            trigram_freq[keys][key] = {}\n",
    "            count = len(trigram_dict[keys][key])\n",
    "            denom = count + size\n",
    "            for k in trigram_dict[keys][key].keys():\n",
    "                trigram_freq[keys][key][k] = math.log10(trigram_dict[keys][key][k]/denom)\n",
    "                \n",
    "    return trigram_freq"
   ]
  },
  {
   "cell_type": "code",
   "execution_count": 21,
   "metadata": {},
   "outputs": [],
   "source": [
    "#Bigram Sentence generator\n",
    "def maxBigram(key,bigram_freq):\n",
    "    m = max(bigram_freq[key].values())\n",
    "    for k,v in bigram_freq[key].items():\n",
    "        if v == m :\n",
    "            print(k,end = ' ')\n",
    "            return k\n",
    "    "
   ]
  },
  {
   "cell_type": "code",
   "execution_count": 24,
   "metadata": {},
   "outputs": [],
   "source": [
    "def maxTrigram(key1,key2,trigram_freq):\n",
    "    m = max(trigram_freq[key1][key2].values())\n",
    "    for k,v in trigram_freq[key1][key2].items():\n",
    "        if v == m :\n",
    "            print(k,end=' ')\n",
    "            return k"
   ]
  },
  {
   "cell_type": "code",
   "execution_count": 8,
   "metadata": {},
   "outputs": [],
   "source": [
    "my_path = '20_newsgroups'\n",
    "folder = 'rec.motorcycles'\n",
    "path = os.path.join(my_path,folder)\n",
    "motor_text = ''\n",
    "for file in os.listdir(path):\n",
    "    file_path = os.path.join(path,file)\n",
    "    with open(file_path,'r') as f:\n",
    "        motor_text += f.read() + ' '"
   ]
  },
  {
   "cell_type": "code",
   "execution_count": 9,
   "metadata": {},
   "outputs": [],
   "source": [
    "sentences = sent_tokenize(motor_text)"
   ]
  },
  {
   "cell_type": "code",
   "execution_count": 10,
   "metadata": {},
   "outputs": [],
   "source": [
    "bigram_dict = {}\n",
    "bigrams_count = 0\n",
    "for sent in sentences:\n",
    "    words = preprocessing(word_tokenize(sent))\n",
    "    bigrams_count += len(words)\n",
    "    words.insert(0,'<s>')\n",
    "    bigram_dict = bigram_generator(words,bigram_dict)\n",
    "    \n",
    "    \n",
    "    "
   ]
  },
  {
   "cell_type": "code",
   "execution_count": 11,
   "metadata": {},
   "outputs": [],
   "source": [
    "trigram_dict = {}\n",
    "trigram_count = 0\n",
    "for sent in sentences:\n",
    "    words = preprocessing(word_tokenize(sent))\n",
    "    trigram_count += len(words)\n",
    "    words.insert(0,'<s>')\n",
    "    words.insert(0,'<s>')\n",
    "    \n",
    "    trigram_dict = trigram_generator(words,trigram_dict)"
   ]
  },
  {
   "cell_type": "code",
   "execution_count": 12,
   "metadata": {},
   "outputs": [],
   "source": [
    "\n",
    "bigram_freq = bigram_freq_generator(bigram_dict,bigrams_count)\n",
    "trigram_freq = trigram_freq_generator(trigram_dict,trigram_count)"
   ]
  },
  {
   "cell_type": "code",
   "execution_count": 27,
   "metadata": {},
   "outputs": [
    {
     "name": "stdout",
     "output_type": "stream",
     "text": [
      "the grateful dead seemed like least could newsgroups path rochester udel gatech concert duke infante "
     ]
    }
   ],
   "source": [
    "key = '<s>' # Starting Bigram\n",
    "for i in range(15):\n",
    "    key = maxBigram(key,bigram_freq)"
   ]
  },
  {
   "cell_type": "code",
   "execution_count": 26,
   "metadata": {},
   "outputs": [
    {
     "name": "stdout",
     "output_type": "stream",
     "text": [
      "the grateful dead seemed like least could newsgroups path rochester udel gatech agate robinson from "
     ]
    }
   ],
   "source": [
    "key1 = '<s>'\n",
    "key2 = '<s>'\n",
    "for i in range(15):\n",
    "    key = maxTrigram(key1,key2,trigram_freq)\n",
    "    key1 = key2\n",
    "    key2 = key"
   ]
  },
  {
   "cell_type": "markdown",
   "metadata": {},
   "source": [
    "Q2) Given Input retun Log probability"
   ]
  },
  {
   "cell_type": "code",
   "execution_count": 31,
   "metadata": {},
   "outputs": [],
   "source": [
    "def findBigramProbability(key1,key2,bigram_freq,size):\n",
    "    if key1 in bigram_freq.keys():\n",
    "        if key2 in bigram_freq[key1].keys():\n",
    "            return bigram_freq[key1][key2]\n",
    "        else:\n",
    "            count = len(bigram_freq[key1])\n",
    "            denom = count+size\n",
    "            return 1/denom\n",
    "    else:\n",
    "        return 1/(1000+size)"
   ]
  },
  {
   "cell_type": "code",
   "execution_count": 32,
   "metadata": {},
   "outputs": [
    {
     "name": "stdout",
     "output_type": "stream",
     "text": [
      "-40.74911186251159\n"
     ]
    }
   ],
   "source": [
    "sent = 'the grateful dead seemed like least could newsgroups path rochester udel gatech agate robinson from '\n",
    "words = preprocessing(word_tokenize(sent))\n",
    "words.insert(0,'<s>')\n",
    "prob_sum = 0\n",
    "for i in range(len(words)-1):\n",
    "    prob_sum += findBigramProbability(words[i],words[i+1],bigram_freq,bigrams_count)\n",
    "    \n",
    "print(prob_sum)"
   ]
  },
  {
   "cell_type": "code",
   "execution_count": null,
   "metadata": {},
   "outputs": [],
   "source": [
    "#1)what if first key in bigram does not exist? How do we smooth it?\n"
   ]
  }
 ],
 "metadata": {
  "kernelspec": {
   "display_name": "Python 3",
   "language": "python",
   "name": "python3"
  },
  "language_info": {
   "codemirror_mode": {
    "name": "ipython",
    "version": 3
   },
   "file_extension": ".py",
   "mimetype": "text/x-python",
   "name": "python",
   "nbconvert_exporter": "python",
   "pygments_lexer": "ipython3",
   "version": "3.6.9"
  }
 },
 "nbformat": 4,
 "nbformat_minor": 2
}
